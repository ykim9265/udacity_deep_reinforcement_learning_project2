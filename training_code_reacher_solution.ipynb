{
 "cells": [
  {
   "cell_type": "markdown",
   "metadata": {},
   "source": [
    "# Training code for Project 2 (i.e. Reacher environment) in Udacity's Deep Reinforcement Learning nanodegree course\n",
    "\n",
    "---\n",
    "\n",
    "In this notebook, we will use the Unity ML-Agents environment for the second project of the [Deep Reinforcement Learning Nanodegree](https://www.udacity.com/course/deep-reinforcement-learning-nanodegree--nd893).\n",
    "\n"
   ]
  },
  {
   "cell_type": "markdown",
   "metadata": {},
   "source": [
    "\n",
    "## 1. Start the Environment\n",
    "\n",
    "We begin by importing the necessary packages.  If the code cell below returns an error, please revisit the project instructions to double-check that you have installed [Unity ML-Agents](https://github.com/Unity-Technologies/ml-agents/blob/master/docs/Installation.md) and [NumPy](http://www.numpy.org/)."
   ]
  },
  {
   "cell_type": "code",
   "execution_count": 1,
   "metadata": {},
   "outputs": [
    {
     "name": "stdout",
     "output_type": "stream",
     "text": [
      "DDPG agent  cuda:0\n"
     ]
    }
   ],
   "source": [
    "import time\n",
    "import os\n",
    "import sys\n",
    "import pickle\n",
    "from collections import deque\n",
    "\n",
    "import matplotlib.pyplot as plt\n",
    "\n",
    "from unityagents import UnityEnvironment\n",
    "import numpy as np\n",
    "import torch\n",
    "\n",
    "from udacity.ddpg_agent import Agent"
   ]
  },
  {
   "cell_type": "code",
   "execution_count": 2,
   "metadata": {},
   "outputs": [
    {
     "name": "stdout",
     "output_type": "stream",
     "text": [
      "python version: /home/life/.pyenv/versions/3.6.11/envs/upy36/bin\n",
      "torch version: 1.7.0\n"
     ]
    }
   ],
   "source": [
    "\n",
    "print('python version:', os.path.dirname(sys.executable))\n",
    "print('torch version:', torch.__version__)\n"
   ]
  },
  {
   "cell_type": "markdown",
   "metadata": {},
   "source": [
    "Next, we will start the environment!  **_Before running the code cell below_**, change the `file_name` parameter to match the location of the Unity environment that you downloaded. See README.md for details of where to download these files.\n",
    "\n",
    "- **Mac**: `\"path/to/Reacher.app\"`\n",
    "- **Windows** (x86): `\"path/to/Reacher_Windows_x86/Reacher.exe\"`\n",
    "- **Windows** (x86_64): `\"path/to/Reacher_Windows_x86_64/Reacher.exe\"`\n",
    "- **Linux** (x86): `\"path/to/Reacher_Linux/Reacher.x86\"`\n",
    "- **Linux** (x86_64): `\"path/to/Reacher_Linux/Reacher.x86_64\"`\n",
    "- **Linux** (x86, headless): `\"path/to/Reacher_Linux_NoVis/Reacher.x86\"`\n",
    "- **Linux** (x86_64, headless): `\"path/to/Reacher_Linux_NoVis/Reacher.x86_64\"`\n",
    "\n",
    "For instance, if you are using a Mac, then you downloaded `Reacher.app`.  If this file is in the same folder as the notebook, then the line below should appear as follows:\n",
    "```\n",
    "env = UnityEnvironment(file_name=\"Reacher.app\")\n",
    "```"
   ]
  },
  {
   "cell_type": "code",
   "execution_count": 3,
   "metadata": {},
   "outputs": [
    {
     "name": "stderr",
     "output_type": "stream",
     "text": [
      "INFO:unityagents:\n",
      "'Academy' started successfully!\n",
      "Unity Academy name: Academy\n",
      "        Number of Brains: 1\n",
      "        Number of External Brains : 1\n",
      "        Lesson number : 0\n",
      "        Reset Parameters :\n",
      "\t\tgoal_speed -> 1.0\n",
      "\t\tgoal_size -> 5.0\n",
      "Unity brain name: ReacherBrain\n",
      "        Number of Visual Observations (per agent): 0\n",
      "        Vector Observation space type: continuous\n",
      "        Vector Observation space size (per agent): 33\n",
      "        Number of stacked Vector Observation: 1\n",
      "        Vector Action space type: continuous\n",
      "        Vector Action space size (per agent): 4\n",
      "        Vector Action descriptions: , , , \n"
     ]
    }
   ],
   "source": [
    "# Here, I've unzipped the 'Reacher_Linux' folder in the same folder as this notebook:\n",
    "file_name = 'Reacher_Linux/Reacher.x86_64'\n",
    "env = UnityEnvironment(file_name=file_name)"
   ]
  },
  {
   "cell_type": "markdown",
   "metadata": {},
   "source": [
    "Environments contain **_brains_** which are responsible for deciding the actions of their associated agents. Here we check for the first brain available, and set it as the default brain we will be controlling from Python."
   ]
  },
  {
   "cell_type": "code",
   "execution_count": 4,
   "metadata": {},
   "outputs": [],
   "source": [
    "# get the default brain\n",
    "brain_name = env.brain_names[0]\n",
    "brain = env.brains[brain_name]"
   ]
  },
  {
   "cell_type": "markdown",
   "metadata": {},
   "source": [
    "## 2. Examine the State and Action Spaces\n",
    "\n",
    "In this environment, a double-jointed arm can move to target locations. A reward of `+0.1` is provided for each step that the agent's hand is in the goal location. Thus, the goal of your agent is to maintain its position at the target location for as many time steps as possible.\n",
    "\n",
    "The observation space consists of `33` variables corresponding to position, rotation, velocity, and angular velocities of the arm.  Each action is a vector with four numbers, corresponding to torque applicable to two joints.  Every entry in the action vector must be a number between `-1` and `1`.\n",
    "\n",
    "Run the code cell below to print some information about the environment."
   ]
  },
  {
   "cell_type": "code",
   "execution_count": 5,
   "metadata": {},
   "outputs": [
    {
     "name": "stdout",
     "output_type": "stream",
     "text": [
      "Number of agents: 1\n",
      "Size of each action: 4\n",
      "There are 1 agents. Each observes a state with length: 33\n",
      "The state for the first agent looks like: [ 0.00000000e+00 -4.00000000e+00  0.00000000e+00  1.00000000e+00\n",
      " -0.00000000e+00 -0.00000000e+00 -4.37113883e-08  0.00000000e+00\n",
      "  0.00000000e+00  0.00000000e+00  0.00000000e+00  0.00000000e+00\n",
      "  0.00000000e+00  0.00000000e+00 -1.00000000e+01  0.00000000e+00\n",
      "  1.00000000e+00 -0.00000000e+00 -0.00000000e+00 -4.37113883e-08\n",
      "  0.00000000e+00  0.00000000e+00  0.00000000e+00  0.00000000e+00\n",
      "  0.00000000e+00  0.00000000e+00  5.75471878e+00 -1.00000000e+00\n",
      "  5.55726671e+00  0.00000000e+00  1.00000000e+00  0.00000000e+00\n",
      " -1.68164849e-01]\n"
     ]
    }
   ],
   "source": [
    "# reset the environment\n",
    "env_info = env.reset(train_mode=True)[brain_name]\n",
    "\n",
    "# number of agents\n",
    "num_agents = len(env_info.agents)\n",
    "print('Number of agents:', num_agents)\n",
    "\n",
    "# size of each action\n",
    "action_size = brain.vector_action_space_size\n",
    "print('Size of each action:', action_size)\n",
    "\n",
    "# examine the state space \n",
    "states = env_info.vector_observations\n",
    "state_size = states.shape[1]\n",
    "print('There are {} agents. Each observes a state with length: {}'.format(states.shape[0], state_size))\n",
    "print('The state for the first agent looks like:', states[0])"
   ]
  },
  {
   "cell_type": "markdown",
   "metadata": {},
   "source": [
    "## 3. Test run an agent in the environment\n",
    "\n",
    "Below, an agent that makes random actions is included for testing the environment, so that we can be sure that it is working as expected."
   ]
  },
  {
   "cell_type": "code",
   "execution_count": 6,
   "metadata": {},
   "outputs": [],
   "source": [
    "def run_random_agent():\n",
    "    \"\"\"This uses a random agent to just test out the unity environment.\n",
    "    \n",
    "    The code was taken from the Udacity nanodegree course.\n",
    "    \"\"\"\n",
    "    env_info = env.reset(train_mode=False)[brain_name]     # reset the environment    \n",
    "    states = env_info.vector_observations                  # get the current state (for each agent)\n",
    "    scores = np.zeros(num_agents)                          # initialize the score (for each agent)\n",
    "    count = 0\n",
    "    while True:\n",
    "        actions = np.random.randn(num_agents, action_size) # select an action (for each agent)\n",
    "        actions = np.clip(actions, -1, 1)                  # all actions between -1 and 1\n",
    "        env_info = env.step(actions)[brain_name]           # send all actions to tne environment\n",
    "        next_states = env_info.vector_observations         # get next state (for each agent)\n",
    "        rewards = env_info.rewards                         # get reward (for each agent)\n",
    "        dones = env_info.local_done                        # see if episode finished\n",
    "        scores += env_info.rewards                         # update the score (for each agent)\n",
    "        states = next_states                               # roll over states to next time step\n",
    "        count = count + 1\n",
    "        \n",
    "        if rewards[0] > 0:\n",
    "            print('actions.shape', actions.shape)\n",
    "            print('actions[0]', actions[0])\n",
    "            print('next_states.shape', next_states.shape)\n",
    "            print('next_states[0][0:10]', next_states[0][0:10])\n",
    "            print('len(rewards)', len(rewards))\n",
    "            print('rewards', rewards)\n",
    "            print('')\n",
    "        \n",
    "        if np.any(dones):                                  # exit loop if episode finished\n",
    "            break\n",
    "            print('Total score (averaged over agents) this episode: {}'.format(np.mean(scores)))\n",
    "    print('count:', count)\n",
    "    return scores\n",
    "\n",
    "#scores = run_random_agent()\n",
    "#print(len(scores))\n",
    "#plt.plot(scores)\n",
    "#scores\n",
    "\n",
    "#assert False"
   ]
  },
  {
   "cell_type": "code",
   "execution_count": null,
   "metadata": {},
   "outputs": [],
   "source": []
  },
  {
   "cell_type": "markdown",
   "metadata": {},
   "source": [
    "## 4. Train an agent using DDPG (Deep Deterministic Policy Gradient)\n",
    "In this section, we will train an agent using the DDPG algorithm over many episodes."
   ]
  },
  {
   "cell_type": "code",
   "execution_count": 7,
   "metadata": {},
   "outputs": [],
   "source": [
    "def ddpg(agent, n_episodes=1000, max_t=2000, train=True):\n",
    "    \"\"\"Trains an agent over multiple episodes using the DDPG algorithm, and returns a list of final scores for the episodes ran.\n",
    "    \n",
    "    Parameters\n",
    "    ----------\n",
    "    agent\n",
    "        A DDPG agent\n",
    "        \n",
    "    n_episodes: int\n",
    "        Maximum number of training episodes\n",
    "        \n",
    "    max_t: int\n",
    "        Maximum number of time steps per episode. Greater this number, the agent is more likely to accumulate larger total reward.\n",
    "        \n",
    "    train : bool\n",
    "        If True, then the agent will be trained. If False, the agent w/ preloaded weights will interact w/ the environment wo/ training.\n",
    "        \n",
    "    Returns\n",
    "    -------\n",
    "    scores: list\n",
    "        A list of final scores for the episodes ran.\n",
    "        \n",
    "    Notes\n",
    "    -----\n",
    "    The `ddpg` function was taken from the Udacity nanodegree Deep Reinforcement Learning course, and adapted to the Reacher unity environment.\n",
    "    \"\"\"\n",
    "    \n",
    "    fn_scores = 'scores_train.pkl'\n",
    "    if train==False:\n",
    "        fn_scores = 'scores_test.pkl'\n",
    "        \n",
    "    all_scores = []\n",
    "    scores_window = deque(maxlen=100)\n",
    "    \n",
    "    for i_episode in range(1, n_episodes+1):\n",
    "        agent.reset()\n",
    "        env_info = env.reset(train_mode=True)[brain_name] # reset the environment\n",
    "        #env_info = env.reset(train_mode=False)[brain_name] # reset the environment\n",
    "        \n",
    "        states = env_info.vector_observations\n",
    "        scores = np.zeros(num_agents)\n",
    "        \n",
    "        for t in range(max_t):\n",
    "            actions = agent.act(states)         \n",
    "      \n",
    "            env_info = env.step(actions)[brain_name]        # send the action to the environment\n",
    "            \n",
    "            next_states = env_info.vector_observations   # get the next state\n",
    "            rewards = env_info.rewards                   # get the reward\n",
    "            dones = env_info.local_done                  # see if episode has finished\n",
    "            \n",
    "            if train == True:\n",
    "                agent.step(states, actions, rewards, next_states, dones)\n",
    "            \n",
    "            states = next_states\n",
    "            scores += rewards\n",
    "            \n",
    "            \n",
    "            # Each episode is 1000 steps long. However, here we are going beyond to 'max_t=2000' steps.\n",
    "            # This means the agent has more chance to accumulate rewards due to longer episode.\n",
    "            #if np.any(dones):                                  # exit loop if episode finished\n",
    "            #    #print('episode:', i_episode, ' t:', t)  # \n",
    "            #    break    \n",
    "            \n",
    "        \n",
    "        avg_score = np.mean(scores)\n",
    "        scores_window.append(avg_score)\n",
    "        all_scores.append(avg_score)\n",
    "\n",
    "        # Save data at regular interval:\n",
    "        if i_episode % 100 == 0:\n",
    "            with open(fn_scores, 'wb') as f:\n",
    "                pickle.dump(all_scores, f)\n",
    "                \n",
    "            torch.save(agent.actor_local.state_dict(), 'checkpoint_actor.pth')\n",
    "            torch.save(agent.critic_local.state_dict(), 'checkpoint_critic.pth') \n",
    "          \n",
    "        print('\\rEpisode {}\\tAverage Score: {:.2f}'.format(i_episode, np.mean(scores_window)), end=\"\")\n",
    "        \n",
    "\n",
    "        if i_episode % 100 == 0:\n",
    "            print('\\rEpisode {}\\tAverage Score: {:.2f}'.format(i_episode, np.mean(scores_window)))\n",
    "        if train == True:\n",
    "            if np.mean(scores_window) >= 30.0:\n",
    "                print('Environment solved after {} episodes'.format(i_episode + 1))\n",
    "                torch.save(agent.actor_local.state_dict(), 'checkpoint_actor.pth')\n",
    "                torch.save(agent.critic_local.state_dict(), 'checkpoint_critic.pth') \n",
    "\n",
    "                break\n",
    "          \n",
    "    \n",
    "    return all_scores\n"
   ]
  },
  {
   "cell_type": "code",
   "execution_count": 8,
   "metadata": {
    "scrolled": false
   },
   "outputs": [
    {
     "name": "stdout",
     "output_type": "stream",
     "text": [
      "Episode 100\tAverage Score: 5.66\n",
      "Episode 200\tAverage Score: 12.84\n",
      "Episode 300\tAverage Score: 19.72\n",
      "Episode 400\tAverage Score: 28.18\n",
      "Episode 416\tAverage Score: 30.19Environment solved after 417 episodes\n",
      "Training took: 91.98610140482585  minutes\n"
     ]
    }
   ],
   "source": [
    "# Train an agent:\n",
    "seed = 0\n",
    "agent = Agent(state_size, action_size, random_seed=seed)\n",
    "\n",
    "ts_i = time.time()\n",
    "\n",
    "#scores = ddpg(agent, n_episodes=300)\n",
    "#scores = ddpg(agent, n_episodes=1)    # For troubleshooting.\n",
    "scores = ddpg(agent, n_episodes=5000)\n",
    "\n",
    "ts_j = time.time()\n",
    "ts_diff = ts_j - ts_i\n",
    "print('Training took:', ts_diff/60., ' minutes')\n",
    "\n",
    "# Save scores:\n",
    "with open('scores_train.pkl', 'wb') as f:\n",
    "    pickle.dump(scores, f)"
   ]
  },
  {
   "cell_type": "code",
   "execution_count": 9,
   "metadata": {},
   "outputs": [
    {
     "data": {
      "image/png": "[encoded data removed]",
      "text/plain": [
       "<Figure size 432x288 with 1 Axes>"
      ]
     },
     "metadata": {
      "needs_background": "light"
     },
     "output_type": "display_data"
    }
   ],
   "source": [
    "# plot the scores\n",
    "fig = plt.figure()\n",
    "ax = fig.add_subplot(111)\n",
    "plt.plot(np.arange(len(scores)), scores)\n",
    "plt.ylabel('Score')\n",
    "plt.xlabel('Episode #')\n",
    "plt.show()"
   ]
  },
  {
   "cell_type": "markdown",
   "metadata": {},
   "source": [
    "## 5. Confirm that the saved weights contain the trained agent that performs better\n",
    "\n",
    "In this section, we will load learned neural network weights from files `checkpoint_actor.pth` and `checkpoint_critic.pth` into an agent, and re-run agent without training, and evaluate its performance.\n",
    "\n",
    "Note that an average score of 30+ for 100 consecutive episodes is considered \"solving\" the environment."
   ]
  },
  {
   "cell_type": "code",
   "execution_count": 10,
   "metadata": {},
   "outputs": [
    {
     "data": {
      "text/plain": [
       "Critic(\n",
       "  (fcs1): Linear(in_features=33, out_features=512, bias=True)\n",
       "  (fc2): Linear(in_features=516, out_features=256, bias=True)\n",
       "  (fc3): Linear(in_features=256, out_features=1, bias=True)\n",
       "  (dropout): Dropout(p=0.2, inplace=False)\n",
       "  (normalizer): BatchNorm1d(33, eps=1e-05, momentum=0.1, affine=True, track_running_stats=True)\n",
       ")"
      ]
     },
     "execution_count": 10,
     "metadata": {},
     "output_type": "execute_result"
    }
   ],
   "source": [
    "# Load the model weights from the previous Training step into a new agent:\n",
    "\n",
    "agent2 = Agent(state_size, action_size, random_seed=0)\n",
    "agent2.actor_local.load_state_dict(torch.load('checkpoint_actor.pth', map_location=torch.device('cpu')))\n",
    "agent2.critic_local.load_state_dict(torch.load('checkpoint_critic.pth', map_location=torch.device('cpu')))\n",
    "\n",
    "agent2.actor_local.eval()\n",
    "agent2.critic_local.eval()\n",
    "\n"
   ]
  },
  {
   "cell_type": "code",
   "execution_count": 11,
   "metadata": {},
   "outputs": [
    {
     "name": "stdout",
     "output_type": "stream",
     "text": [
      "Episode 100\tAverage Score: 35.52\n"
     ]
    }
   ],
   "source": [
    "# Run the new agent for n_episodes:\n",
    "scores_test = ddpg(agent2, n_episodes=100, train=False)\n",
    "\n",
    "with open('scores_test.pkl', 'wb') as f:\n",
    "    pickle.dump(scores_test, f)"
   ]
  },
  {
   "cell_type": "code",
   "execution_count": 12,
   "metadata": {},
   "outputs": [
    {
     "data": {
      "image/png": "[encoded data removed]",
      "text/plain": [
       "<Figure size 432x288 with 1 Axes>"
      ]
     },
     "metadata": {
      "needs_background": "light"
     },
     "output_type": "display_data"
    }
   ],
   "source": [
    "# plot the scores\n",
    "fig = plt.figure()\n",
    "ax = fig.add_subplot(111)\n",
    "plt.plot(np.arange(len(scores_test)), scores_test)\n",
    "plt.ylabel('Score')\n",
    "plt.xlabel('Episode #')\n",
    "plt.show()"
   ]
  },
  {
   "cell_type": "code",
   "execution_count": 13,
   "metadata": {},
   "outputs": [
    {
     "data": {
      "text/plain": [
       "<matplotlib.lines.Line2D at 0x7fa0ea853da0>"
      ]
     },
     "execution_count": 13,
     "metadata": {},
     "output_type": "execute_result"
    },
    {
     "data": {
      "image/png": "[encoded data removed]",
      "text/plain": [
       "<Figure size 432x288 with 1 Axes>"
      ]
     },
     "metadata": {
      "needs_background": "light"
     },
     "output_type": "display_data"
    }
   ],
   "source": [
    "## Distribution of scores\n",
    "score_mean = np.mean(scores_test)\n",
    "\n",
    "plt.hist(scores_test, bins=10)\n",
    "plt.ylabel('Count')\n",
    "plt.title('Distribution of scores using the trained agent')\n",
    "plt.axvline(x=score_mean, color='red')"
   ]
  },
  {
   "cell_type": "code",
   "execution_count": 14,
   "metadata": {},
   "outputs": [
    {
     "name": "stdout",
     "output_type": "stream",
     "text": [
      "Mean Score: 35.516599206142125\n"
     ]
    }
   ],
   "source": [
    "print('Mean Score:', score_mean)"
   ]
  },
  {
   "cell_type": "code",
   "execution_count": null,
   "metadata": {},
   "outputs": [],
   "source": []
  },
  {
   "cell_type": "code",
   "execution_count": null,
   "metadata": {},
   "outputs": [],
   "source": []
  },
  {
   "cell_type": "code",
   "execution_count": null,
   "metadata": {},
   "outputs": [],
   "source": []
  },
  {
   "cell_type": "code",
   "execution_count": 15,
   "metadata": {},
   "outputs": [],
   "source": [
    "env.close()"
   ]
  },
  {
   "cell_type": "code",
   "execution_count": null,
   "metadata": {},
   "outputs": [],
   "source": []
  },
  {
   "cell_type": "code",
   "execution_count": null,
   "metadata": {},
   "outputs": [],
   "source": []
  }
 ],
 "metadata": {
  "kernelspec": {
   "display_name": "Python 3",
   "language": "python",
   "name": "python3"
  },
  "language_info": {
   "codemirror_mode": {
    "name": "ipython",
    "version": 3
   },
   "file_extension": ".py",
   "mimetype": "text/x-python",
   "name": "python",
   "nbconvert_exporter": "python",
   "pygments_lexer": "ipython3",
   "version": "3.6.11"
  }
 },
 "nbformat": 4,
 "nbformat_minor": 2
}
